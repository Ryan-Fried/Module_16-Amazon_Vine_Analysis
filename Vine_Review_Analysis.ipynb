{
  "nbformat": 4,
  "nbformat_minor": 0,
  "metadata": {
    "colab": {
      "name": "Vine_Review_Analysis.ipynb",
      "provenance": [],
      "collapsed_sections": []
    },
    "kernelspec": {
      "name": "python3",
      "display_name": "Python 3"
    },
    "language_info": {
      "name": "python"
    }
  },
  "cells": [
    {
      "cell_type": "code",
      "execution_count": 2,
      "metadata": {
        "colab": {
          "base_uri": "https://localhost:8080/"
        },
        "id": "XW5eMJBBU3ED",
        "outputId": "6d4d9447-e4ce-4a14-a656-008ea1038977"
      },
      "outputs": [
        {
          "output_type": "stream",
          "name": "stdout",
          "text": [
            "\r0% [Working]\r            \rIgn:1 https://developer.download.nvidia.com/compute/cuda/repos/ubuntu1804/x86_64  InRelease\n",
            "\r0% [Connecting to archive.ubuntu.com (91.189.88.142)] [Connecting to security.u\r                                                                               \rIgn:2 https://developer.download.nvidia.com/compute/machine-learning/repos/ubuntu1804/x86_64  InRelease\n",
            "\r0% [Connecting to archive.ubuntu.com (91.189.88.142)] [Connecting to security.u\r                                                                               \rGet:3 https://developer.download.nvidia.com/compute/cuda/repos/ubuntu1804/x86_64  Release [696 B]\n",
            "\r0% [Connecting to archive.ubuntu.com (91.189.88.142)] [Connecting to security.u\r0% [Connecting to archive.ubuntu.com (91.189.88.142)] [Connecting to security.u\r                                                                               \rHit:4 https://developer.download.nvidia.com/compute/machine-learning/repos/ubuntu1804/x86_64  Release\n",
            "\r0% [Connecting to archive.ubuntu.com (91.189.88.142)] [Connecting to security.u\r                                                                               \rGet:5 https://cloud.r-project.org/bin/linux/ubuntu bionic-cran40/ InRelease [3,626 B]\n",
            "\r0% [Connecting to archive.ubuntu.com (91.189.88.142)] [Connecting to security.u\r0% [Release.gpg gpgv 564 B] [Connecting to archive.ubuntu.com (91.189.88.142)] \r                                                                               \rGet:6 https://developer.download.nvidia.com/compute/cuda/repos/ubuntu1804/x86_64  Release.gpg [836 B]\n",
            "Get:7 http://security.ubuntu.com/ubuntu bionic-security InRelease [88.7 kB]\n",
            "Hit:8 http://archive.ubuntu.com/ubuntu bionic InRelease\n",
            "Get:10 http://ppa.launchpad.net/c2d4u.team/c2d4u4.0+/ubuntu bionic InRelease [15.9 kB]\n",
            "Get:11 http://archive.ubuntu.com/ubuntu bionic-updates InRelease [88.7 kB]\n",
            "Get:12 https://cloud.r-project.org/bin/linux/ubuntu bionic-cran40/ Packages [76.4 kB]\n",
            "Get:13 https://developer.download.nvidia.com/compute/cuda/repos/ubuntu1804/x86_64  Packages [894 kB]\n",
            "Hit:14 http://ppa.launchpad.net/cran/libgit2/ubuntu bionic InRelease\n",
            "Get:15 http://archive.ubuntu.com/ubuntu bionic-backports InRelease [74.6 kB]\n",
            "Get:16 http://ppa.launchpad.net/deadsnakes/ppa/ubuntu bionic InRelease [15.9 kB]\n",
            "Get:17 http://security.ubuntu.com/ubuntu bionic-security/restricted amd64 Packages [738 kB]\n",
            "Hit:18 http://ppa.launchpad.net/graphics-drivers/ppa/ubuntu bionic InRelease\n",
            "Get:19 http://security.ubuntu.com/ubuntu bionic-security/main amd64 Packages [2,518 kB]\n",
            "Get:20 http://ppa.launchpad.net/c2d4u.team/c2d4u4.0+/ubuntu bionic/main Sources [1,823 kB]\n",
            "Get:21 http://security.ubuntu.com/ubuntu bionic-security/universe amd64 Packages [1,464 kB]\n",
            "Get:22 http://archive.ubuntu.com/ubuntu bionic-updates/universe amd64 Packages [2,244 kB]\n",
            "Get:23 http://archive.ubuntu.com/ubuntu bionic-updates/main amd64 Packages [2,983 kB]\n",
            "Get:24 http://archive.ubuntu.com/ubuntu bionic-updates/restricted amd64 Packages [796 kB]\n",
            "Get:25 http://ppa.launchpad.net/c2d4u.team/c2d4u4.0+/ubuntu bionic/main amd64 Packages [935 kB]\n",
            "Get:26 http://ppa.launchpad.net/deadsnakes/ppa/ubuntu bionic/main amd64 Packages [45.3 kB]\n",
            "Fetched 14.8 MB in 4s (3,359 kB/s)\n",
            "Reading package lists... Done\n"
          ]
        }
      ],
      "source": [
        "import os\n",
        "# Find the latest version of spark 3.0 from http://www.apache.org/dist/spark/ and enter as the spark version\n",
        "# For example:\n",
        "# spark_version = 'spark-3.0.3'\n",
        "spark_version = 'spark-3.0.3'\n",
        "os.environ['SPARK_VERSION']=spark_version\n",
        "\n",
        "# Install Spark and Java\n",
        "!apt-get update\n",
        "!apt-get install openjdk-11-jdk-headless -qq > /dev/null\n",
        "!wget -q http://www.apache.org/dist/spark/$SPARK_VERSION/$SPARK_VERSION-bin-hadoop2.7.tgz\n",
        "!tar xf $SPARK_VERSION-bin-hadoop2.7.tgz\n",
        "!pip install -q findspark\n",
        "\n",
        "# Set Environment Variables\n",
        "import os\n",
        "os.environ[\"JAVA_HOME\"] = \"/usr/lib/jvm/java-11-openjdk-amd64\"\n",
        "os.environ[\"SPARK_HOME\"] = f\"/content/{spark_version}-bin-hadoop2.7\"\n",
        "\n",
        "# Start a SparkSession\n",
        "import findspark\n",
        "findspark.init()"
      ]
    },
    {
      "cell_type": "code",
      "source": [
        "# Download the Postgres driver that will allow Spark to interact with Postgres.\n",
        "!wget https://jdbc.postgresql.org/download/postgresql-42.2.16.jar"
      ],
      "metadata": {
        "colab": {
          "base_uri": "https://localhost:8080/"
        },
        "id": "4B4wT7Emcjhg",
        "outputId": "4cb9cb86-6400-4479-c9b2-20b5f28834ea"
      },
      "execution_count": 3,
      "outputs": [
        {
          "output_type": "stream",
          "name": "stdout",
          "text": [
            "--2022-02-01 02:13:40--  https://jdbc.postgresql.org/download/postgresql-42.2.16.jar\n",
            "Resolving jdbc.postgresql.org (jdbc.postgresql.org)... 72.32.157.228, 2001:4800:3e1:1::228\n",
            "Connecting to jdbc.postgresql.org (jdbc.postgresql.org)|72.32.157.228|:443... connected.\n",
            "HTTP request sent, awaiting response... 200 OK\n",
            "Length: 1002883 (979K) [application/java-archive]\n",
            "Saving to: ‘postgresql-42.2.16.jar’\n",
            "\n",
            "postgresql-42.2.16. 100%[===================>] 979.38K  5.86MB/s    in 0.2s    \n",
            "\n",
            "2022-02-01 02:13:41 (5.86 MB/s) - ‘postgresql-42.2.16.jar’ saved [1002883/1002883]\n",
            "\n"
          ]
        }
      ]
    },
    {
      "cell_type": "code",
      "source": [
        "from pyspark.sql import SparkSession\n",
        "spark = SparkSession.builder.appName(\"M16-Amazon-Challenge\").config(\"spark.driver.extraClassPath\",\"/content/postgresql-42.2.16.jar\").getOrCreate()"
      ],
      "metadata": {
        "id": "oFMw2_ddcqTO"
      },
      "execution_count": 4,
      "outputs": []
    },
    {
      "cell_type": "code",
      "source": [
        "from pyspark import SparkFiles\n",
        "url = \"https://s3.amazonaws.com/amazon-reviews-pds/tsv/amazon_reviews_us_Home_Entertainment_v1_00.tsv.gz\"\n",
        "spark.sparkContext.addFile(url)\n",
        "df = spark.read.option(\"encoding\", \"UTF-8\").csv(SparkFiles.get(\"\"), sep=\"\\t\", header=True, inferSchema=True)\n",
        "df.show()"
      ],
      "metadata": {
        "colab": {
          "base_uri": "https://localhost:8080/"
        },
        "id": "0lTC9hMBcyIb",
        "outputId": "a61e7f82-08e8-401a-e971-d2d7510ff6c4"
      },
      "execution_count": 5,
      "outputs": [
        {
          "output_type": "stream",
          "name": "stdout",
          "text": [
            "+-----------+-----------+--------------+----------+--------------+--------------------+------------------+-----------+-------------+-----------+----+-----------------+--------------------+--------------------+-----------+\n",
            "|marketplace|customer_id|     review_id|product_id|product_parent|       product_title|  product_category|star_rating|helpful_votes|total_votes|vine|verified_purchase|     review_headline|         review_body|review_date|\n",
            "+-----------+-----------+--------------+----------+--------------+--------------------+------------------+-----------+-------------+-----------+----+-----------------+--------------------+--------------------+-----------+\n",
            "|         US|     179886| RY01SAV7HZ8QO|B00NTI0CQ2|     667358431|Aketek 1080P LED ...|Home Entertainment|          4|            0|          0|   N|                Y|good enough for m...|not the best pict...| 2015-08-31|\n",
            "|         US|   37293769|R1XX8SDGJ4MZ4L|B00BUCLVZU|     621695622|TiVo Mini with IR...|Home Entertainment|          5|            0|          0|   N|                N|Tell the Cable Co...|Not only do my Ti...| 2015-08-31|\n",
            "|         US|    8332121|R149Q3B5L33NN5|B00RBX9D5W|     143071132|Apple TV MD199LL/...|Home Entertainment|          5|            0|          0|   N|                Y|    Works perfectly!|Works perfectly! ...| 2015-08-31|\n",
            "|         US|   47054962|R2ZVD69Z6KPJ4O|B00UJ3IULO|     567816707|New Roku 3 6.5 Fo...|Home Entertainment|          1|            0|          2|   N|                Y|It doesn't work. ...|It doesn't work. ...| 2015-08-31|\n",
            "|         US|   23413911|R1DIKG2G33ZLNP|B0037UCTXG|     909557698|Generic DVI-I Dua...|Home Entertainment|          4|            0|          0|   N|                Y|         As pictured|I received the it...| 2015-08-31|\n",
            "|         US|    4417771|R3L6FGKAW0EYFI|B004N866SU|     414565179|Samsung 3D LED HD...|Home Entertainment|          1|            1|          1|   N|                N|Only lasts 3-4 ye...|I bought this TV ...| 2015-08-31|\n",
            "|         US|   47900707| RAO0QZH5VC6VI|B00JE6AOJS|     798450889|Jiake Wireless Bl...|Home Entertainment|          1|            0|          0|   N|                Y|            One Star|    Waste of $$$$$$$| 2015-08-31|\n",
            "|         US|   34112894|R25IK0UAHWNB22|B00COL0B7A|     777554234|3pcs/lot 3in1 3ft...|Home Entertainment|          3|            0|          0|   N|                Y|         Three Stars|Nice but all thre...| 2015-08-31|\n",
            "|         US|   20691979|R2A9IHKZMTMAL1|B00QHLSKOE|     885228855|Matricom G-Box Q²...|Home Entertainment|          5|            1|          2|   N|                Y|Yes...exactly wha...|Oh, yeah...doesn'...| 2015-08-31|\n",
            "|         US|   25983343| R5XVKTHL6SITI|B00UNL2MUW|     164482798|VIZIO S2920W-C0B ...|Home Entertainment|          5|            0|          0|   N|                Y|Fantastic sound. ...|Fantastic sound. ...| 2015-08-31|\n",
            "|         US|   35816068|R2QZZOSTDDY1IE|B00RIC9JB4|     184834831|Hitachi 49\" Class...|Home Entertainment|          3|            3|          6|   N|                Y|               risky|Great tv but Tv d...| 2015-08-31|\n",
            "|         US|   10628020|R38CUDCFPSNYTD|B00HPMCO6O|     444378461|Sony BDPS5200 3D ...|Home Entertainment|          5|            0|          0|   N|                Y|          Five Stars|EXCELLENT SERVICE...| 2015-08-31|\n",
            "|         US|    9059625| RM6ZR6NH052YH|B004QGXWS6|     770226547|Sylvania 7-Inch T...|Home Entertainment|          3|            1|          2|   N|                Y|They worked great...|They worked great...| 2015-08-31|\n",
            "|         US|    2681147| RUQK5N4WH8UN8|B00FO12XY6|     448806082|Roku HD Streaming...|Home Entertainment|          5|            0|          0|   N|                Y|          Five Stars|Smooth and worked...| 2015-08-31|\n",
            "|         US|   33449922|R21LWSBQWWJYZ3|B00BD7UVO4|     374427271|LG Electronics BP...|Home Entertainment|          5|            0|          0|   N|                Y|          Five Stars|     Works very well| 2015-08-31|\n",
            "|         US|   43069144| R8W5S53RQ2DF7|B00TRQPEYK|     614207013|LG Electronics LF...|Home Entertainment|          5|            0|          0|   N|                Y|               LG TV|The TV arrived qu...| 2015-08-31|\n",
            "|         US|   46780686|R3ENME3JQBWXZS|B005STXQG8|     689442799|SquareTrade TV Pr...|Home Entertainment|          5|            0|          1|   N|                Y|          Five Stars|well worth the mo...| 2015-08-31|\n",
            "|         US|   49037595|R3URL5K7DHHYK7|B00BEL11RA|     910670994|Cambridge - Azur ...|Home Entertainment|          5|            1|          1|   N|                Y|            Love it.|Great Blu-ray pla...| 2015-08-31|\n",
            "|         US|   27868511|R22YISZKS35YZX|B00QHLSKOE|     885228855|Matricom G-Box Q²...|Home Entertainment|          5|            2|          3|   N|                Y|If your on the fe...|Great media cente...| 2015-08-31|\n",
            "|         US|    3004043|R3IIOLWHWC297U|B00MWCJ8VQ|     946374680|Roku 3500XB Strea...|Home Entertainment|          5|            0|          0|   N|                Y|          Five Stars|       great product| 2015-08-31|\n",
            "+-----------+-----------+--------------+----------+--------------+--------------------+------------------+-----------+-------------+-----------+----+-----------------+--------------------+--------------------+-----------+\n",
            "only showing top 20 rows\n",
            "\n"
          ]
        }
      ]
    },
    {
      "cell_type": "code",
      "source": [
        "# Create the vine_table. DataFrame\n",
        "vine_df = df.select(['review_id','star_rating','helpful_votes','total_votes',\"vine\",\"verified_purchase\"])\n",
        "vine_df.show()"
      ],
      "metadata": {
        "colab": {
          "base_uri": "https://localhost:8080/"
        },
        "id": "1eTY2pg_c1GN",
        "outputId": "3cd79c42-31ef-4067-8204-11d76c68d496"
      },
      "execution_count": 6,
      "outputs": [
        {
          "output_type": "stream",
          "name": "stdout",
          "text": [
            "+--------------+-----------+-------------+-----------+----+-----------------+\n",
            "|     review_id|star_rating|helpful_votes|total_votes|vine|verified_purchase|\n",
            "+--------------+-----------+-------------+-----------+----+-----------------+\n",
            "| RY01SAV7HZ8QO|          4|            0|          0|   N|                Y|\n",
            "|R1XX8SDGJ4MZ4L|          5|            0|          0|   N|                N|\n",
            "|R149Q3B5L33NN5|          5|            0|          0|   N|                Y|\n",
            "|R2ZVD69Z6KPJ4O|          1|            0|          2|   N|                Y|\n",
            "|R1DIKG2G33ZLNP|          4|            0|          0|   N|                Y|\n",
            "|R3L6FGKAW0EYFI|          1|            1|          1|   N|                N|\n",
            "| RAO0QZH5VC6VI|          1|            0|          0|   N|                Y|\n",
            "|R25IK0UAHWNB22|          3|            0|          0|   N|                Y|\n",
            "|R2A9IHKZMTMAL1|          5|            1|          2|   N|                Y|\n",
            "| R5XVKTHL6SITI|          5|            0|          0|   N|                Y|\n",
            "|R2QZZOSTDDY1IE|          3|            3|          6|   N|                Y|\n",
            "|R38CUDCFPSNYTD|          5|            0|          0|   N|                Y|\n",
            "| RM6ZR6NH052YH|          3|            1|          2|   N|                Y|\n",
            "| RUQK5N4WH8UN8|          5|            0|          0|   N|                Y|\n",
            "|R21LWSBQWWJYZ3|          5|            0|          0|   N|                Y|\n",
            "| R8W5S53RQ2DF7|          5|            0|          0|   N|                Y|\n",
            "|R3ENME3JQBWXZS|          5|            0|          1|   N|                Y|\n",
            "|R3URL5K7DHHYK7|          5|            1|          1|   N|                Y|\n",
            "|R22YISZKS35YZX|          5|            2|          3|   N|                Y|\n",
            "|R3IIOLWHWC297U|          5|            0|          0|   N|                Y|\n",
            "+--------------+-----------+-------------+-----------+----+-----------------+\n",
            "only showing top 20 rows\n",
            "\n"
          ]
        }
      ]
    },
    {
      "cell_type": "code",
      "source": [
        "# Step 1: Filter total votes over 20\n",
        "step1_df = df.filter('total_votes>=20')\n",
        "step1_df.show()"
      ],
      "metadata": {
        "colab": {
          "base_uri": "https://localhost:8080/"
        },
        "id": "liXDA2LHfXWK",
        "outputId": "03e0af98-b02d-4fd5-f546-85da36afe926"
      },
      "execution_count": 8,
      "outputs": [
        {
          "output_type": "stream",
          "name": "stdout",
          "text": [
            "+-----------+-----------+--------------+----------+--------------+--------------------+------------------+-----------+-------------+-----------+----+-----------------+--------------------+--------------------+-----------+\n",
            "|marketplace|customer_id|     review_id|product_id|product_parent|       product_title|  product_category|star_rating|helpful_votes|total_votes|vine|verified_purchase|     review_headline|         review_body|review_date|\n",
            "+-----------+-----------+--------------+----------+--------------+--------------------+------------------+-----------+-------------+-----------+----+-----------------+--------------------+--------------------+-----------+\n",
            "|         US|   24284435|R1VCSDR38XTALJ|B00WA42GTC|     464704031|Samsung Blu-ray P...|Home Entertainment|          1|           33|         40|   N|                N|Wouldn't recommen...|This Samsung BD-J...| 2015-08-31|\n",
            "|         US|    5445862|R1KMC6B2JRCZ3D|B00SMBF3NS|     742282603|VIZIO E24-C1 E Se...|Home Entertainment|          3|           42|         47|   N|                N|For those who wil...|As a stand alone ...| 2015-08-31|\n",
            "|         US|   51694196|R1LV778IDGRJQ6|B00T63YMGK|     127288599|Product TitleVIZI...|Home Entertainment|          1|            4|         23|   N|                Y|Do It Yourself Fr...|If you buy this o...| 2015-08-31|\n",
            "|         US|   26295494| RBZE8H6SHVYWW|B00Z0IBCD6|     617888413|Samsung UN40JU640...|Home Entertainment|          3|           77|        110|   N|                N|The UN40J6400   i...|SAMSUNG SERIES 6 ...| 2015-08-31|\n",
            "|         US|   25137129|R2LBEAGVJA7HK1|B00IS4SWFU|     681905492|Incredisonic Vue ...|Home Entertainment|          3|            5|         48|   N|                N|I really want to ...|I requested the I...| 2015-08-31|\n",
            "|         US|   12703303|R3UN4H3BW9YTQA|B00VVOCSOU|     933789462|TCL 32D2700 720p ...|Home Entertainment|          5|          358|        388|   N|                Y|GREAT TV on a bud...|I was lucky enoug...| 2015-08-31|\n",
            "|         US|   51348681| R2YKRQ8R3B2Q3|B00TKPAWFO|     105403000|Samsung HW-J450 2...|Home Entertainment|          5|           30|         35|   N|                N|If it was possibl...|I purchased this ...| 2015-08-31|\n",
            "|         US|   20245477|R1K00VBT0SMD4Z|B00QXS8L6I|      27709442|Cube Projector Pa...|Home Entertainment|          1|           50|         60|   N|                Y|Sad it didn't wor...|a the actual pict...| 2015-08-31|\n",
            "|         US|   19898852|R3QLX5NODD1OJ4|B00WR28THA|     800515806|Samsung JU7500, S...|Home Entertainment|          1|            9|         25|   N|                Y|      broken times 2|The reason is tha...| 2015-08-31|\n",
            "|         US|   52704984|R2SOOHE0XUQON1|B00U9U94KS|     786300160|Samsung J6300, SB...|Home Entertainment|          1|            2|         24|   N|                N|      SCREEN CRACKED|I bought a simila...| 2015-08-30|\n",
            "|         US|   47878111|R2I9AO0VEBYJES|B0122O3940|     500546686|JmGO Smart Home T...|Home Entertainment|          4|           47|         57|   N|                Y|JmGo G1 is Awesom...|Excellent picture...| 2015-08-30|\n",
            "|         US|   46985890|R27EECVZ426CQ5|B00U1394K8|     532761599|PowerLead Ptox P0...|Home Entertainment|          1|            3|         25|   N|                N|      BOGUS!!!!!!!!!|Obviously bogus r...| 2015-08-30|\n",
            "|         US|   52172832|R3Q7YJX1I5PDMU|B00LH1NA62|     557213720|Magnavox Blu-Ray ...|Home Entertainment|          3|           22|         22|   N|                Y|Functional, but y...|This player works...| 2015-08-30|\n",
            "|         US|   13990589| RJQQO26UPW1PI|B00VVOCQHE|     933789462|TCL 32D2700 720p ...|Home Entertainment|          5|           76|         96|   N|                Y|Great image for t...|While there are s...| 2015-08-30|\n",
            "|         US|   51955091|R2QJI05ZY7DNSR|B00Y7XTF2A|     170440763|LG Electronics LE...|Home Entertainment|          4|           59|         73|   N|                N|           LG UF6800|I purchased a Sam...| 2015-08-30|\n",
            "|         US|   53041702|R2MBLFKV5JFTKE|B00UJ3IULO|     567816707|New Roku 3 6.5 Fo...|Home Entertainment|          1|           80|         89|   N|                N|Nightmare Tech Su...|Nightmare from he...| 2015-08-30|\n",
            "|         US|   20725301|R1YYR1SP2TS30L|B00UB9UJFQ|     548886188|TCL 32S3800 32-In...|Home Entertainment|          1|           55|         70|   N|                Y|Still waiting for...|Product defective...| 2015-08-30|\n",
            "|         US|   42601054|R2DYKW0X2B93QG|B00SMBG8QY|     751255029|VIZIO SB3821-C6 3...|Home Entertainment|          2|           50|         63|   N|                Y|Worth the money, ...|This is a cheap s...| 2015-08-30|\n",
            "|         US|   30687736|R14QWM0LJO6313|B00VDWJZ7I|      14931582|Intel Core i3 i3-...|Home Entertainment|          5|           24|         28|   N|                Y|Blew me away with...|This cpu was purc...| 2015-08-30|\n",
            "|         US|   13260189|R19H4AKN005KL8|B00SK6XXUK|     887568334|Streamsmart Smart...|Home Entertainment|          5|           19|         28|   N|                Y|       Great value!!|It is not THE bes...| 2015-08-30|\n",
            "+-----------+-----------+--------------+----------+--------------+--------------------+------------------+-----------+-------------+-----------+----+-----------------+--------------------+--------------------+-----------+\n",
            "only showing top 20 rows\n",
            "\n"
          ]
        }
      ]
    },
    {
      "cell_type": "code",
      "source": [
        "# Step 2: Helpful votes/total votes\n",
        "step2_df = step1_df.filter(\"helpful_votes/total_votes >= 0.5\")\n",
        "step2_df.show()"
      ],
      "metadata": {
        "colab": {
          "base_uri": "https://localhost:8080/"
        },
        "id": "AJ1apytXDe7V",
        "outputId": "70f4bb11-b394-4f0c-cdcc-36f44ef95a01"
      },
      "execution_count": 10,
      "outputs": [
        {
          "output_type": "stream",
          "name": "stdout",
          "text": [
            "+-----------+-----------+--------------+----------+--------------+--------------------+------------------+-----------+-------------+-----------+----+-----------------+--------------------+--------------------+-----------+\n",
            "|marketplace|customer_id|     review_id|product_id|product_parent|       product_title|  product_category|star_rating|helpful_votes|total_votes|vine|verified_purchase|     review_headline|         review_body|review_date|\n",
            "+-----------+-----------+--------------+----------+--------------+--------------------+------------------+-----------+-------------+-----------+----+-----------------+--------------------+--------------------+-----------+\n",
            "|         US|   24284435|R1VCSDR38XTALJ|B00WA42GTC|     464704031|Samsung Blu-ray P...|Home Entertainment|          1|           33|         40|   N|                N|Wouldn't recommen...|This Samsung BD-J...| 2015-08-31|\n",
            "|         US|    5445862|R1KMC6B2JRCZ3D|B00SMBF3NS|     742282603|VIZIO E24-C1 E Se...|Home Entertainment|          3|           42|         47|   N|                N|For those who wil...|As a stand alone ...| 2015-08-31|\n",
            "|         US|   26295494| RBZE8H6SHVYWW|B00Z0IBCD6|     617888413|Samsung UN40JU640...|Home Entertainment|          3|           77|        110|   N|                N|The UN40J6400   i...|SAMSUNG SERIES 6 ...| 2015-08-31|\n",
            "|         US|   12703303|R3UN4H3BW9YTQA|B00VVOCSOU|     933789462|TCL 32D2700 720p ...|Home Entertainment|          5|          358|        388|   N|                Y|GREAT TV on a bud...|I was lucky enoug...| 2015-08-31|\n",
            "|         US|   51348681| R2YKRQ8R3B2Q3|B00TKPAWFO|     105403000|Samsung HW-J450 2...|Home Entertainment|          5|           30|         35|   N|                N|If it was possibl...|I purchased this ...| 2015-08-31|\n",
            "|         US|   20245477|R1K00VBT0SMD4Z|B00QXS8L6I|      27709442|Cube Projector Pa...|Home Entertainment|          1|           50|         60|   N|                Y|Sad it didn't wor...|a the actual pict...| 2015-08-31|\n",
            "|         US|   47878111|R2I9AO0VEBYJES|B0122O3940|     500546686|JmGO Smart Home T...|Home Entertainment|          4|           47|         57|   N|                Y|JmGo G1 is Awesom...|Excellent picture...| 2015-08-30|\n",
            "|         US|   52172832|R3Q7YJX1I5PDMU|B00LH1NA62|     557213720|Magnavox Blu-Ray ...|Home Entertainment|          3|           22|         22|   N|                Y|Functional, but y...|This player works...| 2015-08-30|\n",
            "|         US|   13990589| RJQQO26UPW1PI|B00VVOCQHE|     933789462|TCL 32D2700 720p ...|Home Entertainment|          5|           76|         96|   N|                Y|Great image for t...|While there are s...| 2015-08-30|\n",
            "|         US|   51955091|R2QJI05ZY7DNSR|B00Y7XTF2A|     170440763|LG Electronics LE...|Home Entertainment|          4|           59|         73|   N|                N|           LG UF6800|I purchased a Sam...| 2015-08-30|\n",
            "|         US|   53041702|R2MBLFKV5JFTKE|B00UJ3IULO|     567816707|New Roku 3 6.5 Fo...|Home Entertainment|          1|           80|         89|   N|                N|Nightmare Tech Su...|Nightmare from he...| 2015-08-30|\n",
            "|         US|   20725301|R1YYR1SP2TS30L|B00UB9UJFQ|     548886188|TCL 32S3800 32-In...|Home Entertainment|          1|           55|         70|   N|                Y|Still waiting for...|Product defective...| 2015-08-30|\n",
            "|         US|   42601054|R2DYKW0X2B93QG|B00SMBG8QY|     751255029|VIZIO SB3821-C6 3...|Home Entertainment|          2|           50|         63|   N|                Y|Worth the money, ...|This is a cheap s...| 2015-08-30|\n",
            "|         US|   30687736|R14QWM0LJO6313|B00VDWJZ7I|      14931582|Intel Core i3 i3-...|Home Entertainment|          5|           24|         28|   N|                Y|Blew me away with...|This cpu was purc...| 2015-08-30|\n",
            "|         US|   13260189|R19H4AKN005KL8|B00SK6XXUK|     887568334|Streamsmart Smart...|Home Entertainment|          5|           19|         28|   N|                Y|       Great value!!|It is not THE bes...| 2015-08-30|\n",
            "|         US|   10930608|R27MJ6EZADWWPX|B00ZOGUF6E|     234534340|CiBest LED GM60 M...|Home Entertainment|          5|           34|         37|   N|                Y|          Impressed!|I just got it, bu...| 2015-08-30|\n",
            "|         US|   29648162| RXZ3Q8ZGMVQ40|B00SMBFPDG|     680331698|VIZIO 60\" Class (...|Home Entertainment|          1|           19|         30|   N|                Y|New tv worked les...|Received TV on da...| 2015-08-29|\n",
            "|         US|   12508067|R2GFDC3KTYASPJ|B00U9U8RZQ|     851149807|Samsung J5200 Ser...|Home Entertainment|          5|           94|        118|   N|                Y|Excellent TV - Po...|Amazing picture q...| 2015-08-29|\n",
            "|         US|    2336780|R288AJX5OK9K4Q|B00TRQPVKM|     516630089|LG Electronics LF...|Home Entertainment|          1|           46|         63|   N|                Y|   donot buy this tv|What is this man ...| 2015-08-29|\n",
            "|         US|   16010108|R25PC9R5T29WSK|B00SMBFQ7G|     579240906|VIZIO E-Series E5...|Home Entertainment|          5|           21|         23|   N|                Y|Completely satisfied|Packaged extremel...| 2015-08-29|\n",
            "+-----------+-----------+--------------+----------+--------------+--------------------+------------------+-----------+-------------+-----------+----+-----------------+--------------------+--------------------+-----------+\n",
            "only showing top 20 rows\n",
            "\n"
          ]
        }
      ]
    },
    {
      "cell_type": "code",
      "source": [
        "# Step 3: Vine = Y\n",
        "step3_df = step2_df.filter(\"vine=='Y'\")\n",
        "step3_df.show()"
      ],
      "metadata": {
        "colab": {
          "base_uri": "https://localhost:8080/"
        },
        "id": "TFHmAToTGHHA",
        "outputId": "1d7eb381-0e3b-4c1a-db82-51fd4b7cac95"
      },
      "execution_count": 13,
      "outputs": [
        {
          "output_type": "stream",
          "name": "stdout",
          "text": [
            "+-----------+-----------+--------------+----------+--------------+--------------------+------------------+-----------+-------------+-----------+----+-----------------+--------------------+--------------------+-----------+\n",
            "|marketplace|customer_id|     review_id|product_id|product_parent|       product_title|  product_category|star_rating|helpful_votes|total_votes|vine|verified_purchase|     review_headline|         review_body|review_date|\n",
            "+-----------+-----------+--------------+----------+--------------+--------------------+------------------+-----------+-------------+-----------+----+-----------------+--------------------+--------------------+-----------+\n",
            "|         US|   51288086|R3LLICBKRHLRJC|B00USEZ7W4|     202667718|Seiki SE32HYT  LE...|Home Entertainment|          4|           17|         22|   Y|                N|Great picture, a ...|Very nice, sharp ...| 2015-08-27|\n",
            "|         US|   50853411| RUD135S06DEVE|B00ZIGRX4W|     471919351|Samsung JS7000, S...|Home Entertainment|          5|           41|         51|   Y|                N|Fantastic out-of-...|I've had this tel...| 2015-08-23|\n",
            "|         US|   52708408|R2WG8UL4SGDPDH|B00TYFCJ8S|     609914359|Sony BDPS3500 - B...|Home Entertainment|          4|           23|         25|   Y|                N|One of the best B...|The Sony BDPS3500...| 2015-08-21|\n",
            "|         US|   49234743|R158AOKOA28WS2|B00ZIGRX4W|     471919351|Samsung JS7000, S...|Home Entertainment|          4|           18|         28|   Y|                N|One Giant Step in...|I chose a 5 star ...| 2015-08-21|\n",
            "|         US|   51367435| RGWV3QLJQXU9X|B00U9U8RZQ|     851149807|Samsung J5200 Ser...|Home Entertainment|          5|          332|        380|   Y|                N|Excellent quality...|This TV is very l...| 2015-08-21|\n",
            "|         US|   51720265| RD0E1RZSSYGGN|B00ZIGRX4W|     471919351|Samsung JS7000, S...|Home Entertainment|          5|          261|        292|   Y|                N|Price, functional...|With the release ...| 2015-08-17|\n",
            "|         US|   43748492|R3LGCTQH5ZMGO0|B00TKOSUDQ|     793868244|Samsung BD-J5700 ...|Home Entertainment|          5|           61|         68|   Y|                N|BD-J5700 vs. BD-F...|This is more of a...| 2015-08-02|\n",
            "|         US|   17957446|R2H24YTRLARCZJ|B00TKOSUDQ|     793868244|Samsung BD-J5700 ...|Home Entertainment|          4|          277|        297|   Y|                N|Solid Blu-Ray, Go...|The Samsung BD-J5...| 2015-07-27|\n",
            "|         US|   52594065| RYYTC9JTG7WPW|B00U9U8RZQ|     851149807|Samsung J5200 Ser...|Home Entertainment|          5|          107|        134|   Y|                N|Samsung 32-inch s...|I got this TV for...| 2015-07-26|\n",
            "|         US|   53035876| RTB8H4YQYTLY3|B00TIAXRS0|     965387301|LG Electronics BP...|Home Entertainment|          4|           58|         62|   Y|                N|A Very Pleasant S...|I have to admit t...| 2015-07-22|\n",
            "|         US|   51871879| RMQYIMBVK7T8R|B00U9U8RZQ|     851149807|Samsung J5200 Ser...|Home Entertainment|          5|           29|         36|   Y|                N|Wonderful set for...|This television i...| 2015-07-16|\n",
            "|         US|   51014481| R9KIBRBGB1M6W|B00U9U8RZQ|     851149807|Samsung J5200 Ser...|Home Entertainment|          5|           26|         33|   Y|                N|         We love it!|YAY!  We have nev...| 2015-07-16|\n",
            "|         US|   37213020|R122J9QGFCZTR0|B00JT14LAQ|     313477489|Panasonic SC-HC27...|Home Entertainment|          5|          324|        342|   Y|                N|Great device in i...|[[VIDEOID:459c36f...| 2015-07-14|\n",
            "|         US|   20473938|R2QIEBCHDXA2CW|B00USEZBQG|      83494932|Seiki SE50FY 50-I...|Home Entertainment|          4|           55|         64|   Y|                N|  LOW BUDGET BARGAIN|This Seiki 50&#34...| 2015-07-13|\n",
            "|         US|   50727243|R1KG6E0W0Q5YCQ|B00U9U9002|     929833728|Samsung JS8500, S...|Home Entertainment|          5|           27|         32|   Y|                N|Outstanding Telev...|First things firs...| 2015-07-13|\n",
            "|         US|   11169499|R3B6CGFNVWRWJ0|B00USEZBQG|      83494932|Seiki SE50FY 50-I...|Home Entertainment|          5|           15|         23|   Y|                N|Best Of The Non S...|The Seiki 50 inch...| 2015-07-11|\n",
            "|         US|   21155796| RR66J5S5D8ZUP|B00USEZBQG|      83494932|Seiki SE50FY 50-I...|Home Entertainment|          5|           25|         33|   Y|                N|Great picture and...|For the price, th...| 2015-07-09|\n",
            "|         US|   49129501|R3UC7TCOGT73CJ|B00TKOSUDQ|     793868244|Samsung BD-J5700 ...|Home Entertainment|          3|           33|         41|   Y|                N|Apps Are Disappoi...|The Blu-ray playe...| 2015-07-04|\n",
            "|         US|   33107350| R32UKGZUYVA2S|B00U9U9002|     929833728|Samsung JS8500, S...|Home Entertainment|          2|           64|         77|   Y|                N|Samsung makes nic...|If this review co...| 2015-07-04|\n",
            "|         US|   52846213|R1G2OXP36OPF40|B00TIAXRS0|     965387301|LG Electronics BP...|Home Entertainment|          5|           20|         22|   Y|                N|2015 Model - Smoo...|~  Please note th...| 2015-06-23|\n",
            "+-----------+-----------+--------------+----------+--------------+--------------------+------------------+-----------+-------------+-----------+----+-----------------+--------------------+--------------------+-----------+\n",
            "only showing top 20 rows\n",
            "\n"
          ]
        }
      ]
    },
    {
      "cell_type": "code",
      "source": [
        "# Step 4: Vine = N\n",
        "step4_df = step2_df.filter(\"vine=='N'\")\n",
        "step4_df.show()"
      ],
      "metadata": {
        "colab": {
          "base_uri": "https://localhost:8080/"
        },
        "id": "SeZ3ulxBGecH",
        "outputId": "7313cd03-2d36-45b1-a9e2-b7cc11a29294"
      },
      "execution_count": 14,
      "outputs": [
        {
          "output_type": "stream",
          "name": "stdout",
          "text": [
            "+-----------+-----------+--------------+----------+--------------+--------------------+------------------+-----------+-------------+-----------+----+-----------------+--------------------+--------------------+-----------+\n",
            "|marketplace|customer_id|     review_id|product_id|product_parent|       product_title|  product_category|star_rating|helpful_votes|total_votes|vine|verified_purchase|     review_headline|         review_body|review_date|\n",
            "+-----------+-----------+--------------+----------+--------------+--------------------+------------------+-----------+-------------+-----------+----+-----------------+--------------------+--------------------+-----------+\n",
            "|         US|   24284435|R1VCSDR38XTALJ|B00WA42GTC|     464704031|Samsung Blu-ray P...|Home Entertainment|          1|           33|         40|   N|                N|Wouldn't recommen...|This Samsung BD-J...| 2015-08-31|\n",
            "|         US|    5445862|R1KMC6B2JRCZ3D|B00SMBF3NS|     742282603|VIZIO E24-C1 E Se...|Home Entertainment|          3|           42|         47|   N|                N|For those who wil...|As a stand alone ...| 2015-08-31|\n",
            "|         US|   26295494| RBZE8H6SHVYWW|B00Z0IBCD6|     617888413|Samsung UN40JU640...|Home Entertainment|          3|           77|        110|   N|                N|The UN40J6400   i...|SAMSUNG SERIES 6 ...| 2015-08-31|\n",
            "|         US|   12703303|R3UN4H3BW9YTQA|B00VVOCSOU|     933789462|TCL 32D2700 720p ...|Home Entertainment|          5|          358|        388|   N|                Y|GREAT TV on a bud...|I was lucky enoug...| 2015-08-31|\n",
            "|         US|   51348681| R2YKRQ8R3B2Q3|B00TKPAWFO|     105403000|Samsung HW-J450 2...|Home Entertainment|          5|           30|         35|   N|                N|If it was possibl...|I purchased this ...| 2015-08-31|\n",
            "|         US|   20245477|R1K00VBT0SMD4Z|B00QXS8L6I|      27709442|Cube Projector Pa...|Home Entertainment|          1|           50|         60|   N|                Y|Sad it didn't wor...|a the actual pict...| 2015-08-31|\n",
            "|         US|   47878111|R2I9AO0VEBYJES|B0122O3940|     500546686|JmGO Smart Home T...|Home Entertainment|          4|           47|         57|   N|                Y|JmGo G1 is Awesom...|Excellent picture...| 2015-08-30|\n",
            "|         US|   52172832|R3Q7YJX1I5PDMU|B00LH1NA62|     557213720|Magnavox Blu-Ray ...|Home Entertainment|          3|           22|         22|   N|                Y|Functional, but y...|This player works...| 2015-08-30|\n",
            "|         US|   13990589| RJQQO26UPW1PI|B00VVOCQHE|     933789462|TCL 32D2700 720p ...|Home Entertainment|          5|           76|         96|   N|                Y|Great image for t...|While there are s...| 2015-08-30|\n",
            "|         US|   51955091|R2QJI05ZY7DNSR|B00Y7XTF2A|     170440763|LG Electronics LE...|Home Entertainment|          4|           59|         73|   N|                N|           LG UF6800|I purchased a Sam...| 2015-08-30|\n",
            "|         US|   53041702|R2MBLFKV5JFTKE|B00UJ3IULO|     567816707|New Roku 3 6.5 Fo...|Home Entertainment|          1|           80|         89|   N|                N|Nightmare Tech Su...|Nightmare from he...| 2015-08-30|\n",
            "|         US|   20725301|R1YYR1SP2TS30L|B00UB9UJFQ|     548886188|TCL 32S3800 32-In...|Home Entertainment|          1|           55|         70|   N|                Y|Still waiting for...|Product defective...| 2015-08-30|\n",
            "|         US|   42601054|R2DYKW0X2B93QG|B00SMBG8QY|     751255029|VIZIO SB3821-C6 3...|Home Entertainment|          2|           50|         63|   N|                Y|Worth the money, ...|This is a cheap s...| 2015-08-30|\n",
            "|         US|   30687736|R14QWM0LJO6313|B00VDWJZ7I|      14931582|Intel Core i3 i3-...|Home Entertainment|          5|           24|         28|   N|                Y|Blew me away with...|This cpu was purc...| 2015-08-30|\n",
            "|         US|   13260189|R19H4AKN005KL8|B00SK6XXUK|     887568334|Streamsmart Smart...|Home Entertainment|          5|           19|         28|   N|                Y|       Great value!!|It is not THE bes...| 2015-08-30|\n",
            "|         US|   10930608|R27MJ6EZADWWPX|B00ZOGUF6E|     234534340|CiBest LED GM60 M...|Home Entertainment|          5|           34|         37|   N|                Y|          Impressed!|I just got it, bu...| 2015-08-30|\n",
            "|         US|   29648162| RXZ3Q8ZGMVQ40|B00SMBFPDG|     680331698|VIZIO 60\" Class (...|Home Entertainment|          1|           19|         30|   N|                Y|New tv worked les...|Received TV on da...| 2015-08-29|\n",
            "|         US|   12508067|R2GFDC3KTYASPJ|B00U9U8RZQ|     851149807|Samsung J5200 Ser...|Home Entertainment|          5|           94|        118|   N|                Y|Excellent TV - Po...|Amazing picture q...| 2015-08-29|\n",
            "|         US|    2336780|R288AJX5OK9K4Q|B00TRQPVKM|     516630089|LG Electronics LF...|Home Entertainment|          1|           46|         63|   N|                Y|   donot buy this tv|What is this man ...| 2015-08-29|\n",
            "|         US|   16010108|R25PC9R5T29WSK|B00SMBFQ7G|     579240906|VIZIO E-Series E5...|Home Entertainment|          5|           21|         23|   N|                Y|Completely satisfied|Packaged extremel...| 2015-08-29|\n",
            "+-----------+-----------+--------------+----------+--------------+--------------------+------------------+-----------+-------------+-----------+----+-----------------+--------------------+--------------------+-----------+\n",
            "only showing top 20 rows\n",
            "\n"
          ]
        }
      ]
    },
    {
      "cell_type": "code",
      "source": [
        "# Number of Reviews for Y\n",
        "Ycount = step3_df.count()\n",
        "Ycount"
      ],
      "metadata": {
        "colab": {
          "base_uri": "https://localhost:8080/"
        },
        "id": "d7HrHzceH4Dg",
        "outputId": "a624b6dc-8bbe-44d9-bd0a-62ccbcc86659"
      },
      "execution_count": 26,
      "outputs": [
        {
          "output_type": "execute_result",
          "data": {
            "text/plain": [
              "261"
            ]
          },
          "metadata": {},
          "execution_count": 26
        }
      ]
    },
    {
      "cell_type": "code",
      "source": [
        "# Number of Reviews for N\n",
        "Ncount = step4_df.count()\n",
        "Ncount"
      ],
      "metadata": {
        "colab": {
          "base_uri": "https://localhost:8080/"
        },
        "id": "qYtTuSx3ISr-",
        "outputId": "0b4f4aef-2ced-42bd-df02-6c805557e4f5"
      },
      "execution_count": 27,
      "outputs": [
        {
          "output_type": "execute_result",
          "data": {
            "text/plain": [
              "24040"
            ]
          },
          "metadata": {},
          "execution_count": 27
        }
      ]
    },
    {
      "cell_type": "code",
      "source": [
        "# 5 star Y reviews\n",
        "y5 = step3_df.filter(\"star_rating=='5'\").count()\n",
        "y5"
      ],
      "metadata": {
        "colab": {
          "base_uri": "https://localhost:8080/"
        },
        "id": "5LRaWmuKJwhk",
        "outputId": "d958b447-bfb5-4bbb-8845-333bc10a3409"
      },
      "execution_count": 31,
      "outputs": [
        {
          "output_type": "execute_result",
          "data": {
            "text/plain": [
              "106"
            ]
          },
          "metadata": {},
          "execution_count": 31
        }
      ]
    },
    {
      "cell_type": "code",
      "source": [
        "# 5 star N reviews\n",
        "n5 = step4_df.filter(\"star_rating=='5'\").count()\n",
        "n5"
      ],
      "metadata": {
        "colab": {
          "base_uri": "https://localhost:8080/"
        },
        "id": "RDBa3jbpIizJ",
        "outputId": "17614f0e-f2bd-4db4-ef9e-77ec9817bbba"
      },
      "execution_count": 32,
      "outputs": [
        {
          "output_type": "execute_result",
          "data": {
            "text/plain": [
              "10899"
            ]
          },
          "metadata": {},
          "execution_count": 32
        }
      ]
    },
    {
      "cell_type": "code",
      "source": [
        "# 5 star percentage for Y\n",
        "y5/Ycount * 100"
      ],
      "metadata": {
        "colab": {
          "base_uri": "https://localhost:8080/"
        },
        "id": "BCQJtpKFKBo1",
        "outputId": "87f338cd-4230-4d30-b810-5a27a2282c8a"
      },
      "execution_count": 34,
      "outputs": [
        {
          "output_type": "execute_result",
          "data": {
            "text/plain": [
              "40.61302681992337"
            ]
          },
          "metadata": {},
          "execution_count": 34
        }
      ]
    },
    {
      "cell_type": "code",
      "source": [
        "# 5 star percentage for N\n",
        "n5/Ncount * 100"
      ],
      "metadata": {
        "colab": {
          "base_uri": "https://localhost:8080/"
        },
        "id": "M-5oqmECKuYQ",
        "outputId": "adc2af96-96f6-422c-e611-cf5530723c0b"
      },
      "execution_count": 35,
      "outputs": [
        {
          "output_type": "execute_result",
          "data": {
            "text/plain": [
              "45.3369384359401"
            ]
          },
          "metadata": {},
          "execution_count": 35
        }
      ]
    },
    {
      "cell_type": "code",
      "source": [
        ""
      ],
      "metadata": {
        "id": "JEWf04ddLpWR"
      },
      "execution_count": null,
      "outputs": []
    }
  ]
}